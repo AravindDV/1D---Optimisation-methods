{
 "cells": [
  {
   "cell_type": "markdown",
   "metadata": {},
   "source": [
    "# One Dimensional Conditional Optimization\n",
    "## D.V.Aravind"
   ]
  },
  {
   "cell_type": "code",
   "execution_count": 14,
   "metadata": {},
   "outputs": [],
   "source": [
    "import numpy as np\n",
    "import matplotlib.pyplot as plt\n",
    "from ipywidgets import interact, interactive, fixed, interact_manual\n",
    "import ipywidgets as widgets\n",
    "from IPython.display import display\n",
    "%matplotlib inline"
   ]
  },
  {
   "cell_type": "markdown",
   "metadata": {},
   "source": [
    "## Dichotomy method"
   ]
  },
  {
   "cell_type": "code",
   "execution_count": 15,
   "metadata": {},
   "outputs": [],
   "source": [
    "#objective function\n",
    "def f(x):\n",
    "    return 2*x*x\n",
    "\n",
    "#Dichotomy method\n",
    "def dyh(a, b, k):\n",
    "    array = [] #empty array for roots\n",
    "    minf = 0\n",
    "    d = 0.001\n",
    "    for i in range(k):\n",
    "        x1 = (a+b-d)/2\n",
    "        x2 = (a+b+d)/2\n",
    "        if f(x1) > f(x2): #main condition\n",
    "            a = x1\n",
    "            array.append(a)  \n",
    "        else:\n",
    "            b = x2\n",
    "            array.append(b)\n",
    "        \n",
    "    minf = (a+b)/2 #result\n",
    "    return minf, array #the minimum and the list of the roots "
   ]
  },
  {
   "cell_type": "code",
   "execution_count": 16,
   "metadata": {},
   "outputs": [
    {
     "data": {
      "application/vnd.jupyter.widget-view+json": {
       "model_id": "d97fa78bca01401d9851c8195db7a64d",
       "version_major": 2,
       "version_minor": 0
      },
      "text/plain": [
       "IntText(value=-1, description='left bound')"
      ]
     },
     "metadata": {},
     "output_type": "display_data"
    },
    {
     "data": {
      "application/vnd.jupyter.widget-view+json": {
       "model_id": "180ace8717714acea226f0a095e7aeb4",
       "version_major": 2,
       "version_minor": 0
      },
      "text/plain": [
       "IntText(value=1, description='right bound')"
      ]
     },
     "metadata": {},
     "output_type": "display_data"
    },
    {
     "data": {
      "application/vnd.jupyter.widget-view+json": {
       "model_id": "3feca8990b304538952954d3e68ddcfa",
       "version_major": 2,
       "version_minor": 0
      },
      "text/plain": [
       "IntSlider(value=7, continuous_update=False, description='Iterations', max=20)"
      ]
     },
     "metadata": {},
     "output_type": "display_data"
    }
   ],
   "source": [
    "a = widgets.IntText(\n",
    "    value = -1,\n",
    "    description=\"left bound\")\n",
    "display(a)\n",
    "\n",
    "b = widgets.IntText(\n",
    "    value = 1,\n",
    "    description=\"right bound\")\n",
    "display(b)\n",
    "\n",
    "\n",
    "k = widgets.IntSlider(\n",
    "    value=7,\n",
    "    min=0,\n",
    "    max=20,\n",
    "    step=1,\n",
    "    description='Iterations',\n",
    "    disabled=False,\n",
    "    continuous_update=False,\n",
    "    orientation='horizontal',\n",
    "    readout=True,\n",
    "    readout_format='d'\n",
    ")\n",
    "display(k)"
   ]
  },
  {
   "cell_type": "code",
   "execution_count": 17,
   "metadata": {},
   "outputs": [],
   "source": [
    "x1 = np.linspace(-10, 10, num=1000) #point for plotting function\n",
    "y1 = list(map(f,x1)) #the values of the function in x1\n",
    "minf, ar = dyh(a.value, b.value, k.value) #point of optimization\n",
    "y = list(map(f,ar)) #values of the function in point of optimization"
   ]
  },
  {
   "cell_type": "markdown",
   "metadata": {},
   "source": [
    "# Visualization (dichotomy method)"
   ]
  },
  {
   "cell_type": "code",
   "execution_count": 18,
   "metadata": {},
   "outputs": [
    {
     "data": {
      "text/plain": [
       "<matplotlib.collections.PathCollection at 0x218ba9537c0>"
      ]
     },
     "execution_count": 18,
     "metadata": {},
     "output_type": "execute_result"
    },
    {
     "data": {
      "image/png": "[encoded data removed]",
      "text/plain": [
       "<Figure size 432x288 with 1 Axes>"
      ]
     },
     "metadata": {
      "needs_background": "light"
     },
     "output_type": "display_data"
    }
   ],
   "source": [
    "fig = plt.figure()\n",
    "ax = fig.add_subplot(1, 1, 1)\n",
    "ax.plot(x1,y1)\n",
    "ax.scatter(ar, y, marker='o', color='red')"
   ]
  },
  {
   "cell_type": "markdown",
   "metadata": {},
   "source": [
    "# Golden ratio method"
   ]
  },
  {
   "cell_type": "code",
   "execution_count": 19,
   "metadata": {},
   "outputs": [],
   "source": [
    "phi = (5**(1/2)+1)/2\n",
    "def gr(a, b, k):\n",
    "    array = [] #empty array for roots\n",
    "    minf = 0\n",
    "    for i in range(k):\n",
    "        x1 = b - (b-a)/phi\n",
    "        x2 = a + (b-a)/phi\n",
    "        if f(x1) > f(x2): #main condition\n",
    "            a = x1\n",
    "            array.append(a)  \n",
    "        else:\n",
    "            b = x2\n",
    "            array.append(b)\n",
    "        \n",
    "    minf = (a+b)/2 #result\n",
    "    return minf, array #the minimum and the list of the roots "
   ]
  },
  {
   "cell_type": "code",
   "execution_count": 20,
   "metadata": {},
   "outputs": [
    {
     "data": {
      "application/vnd.jupyter.widget-view+json": {
       "model_id": "be0dfa6ce5274b428afe51a0132b6cd2",
       "version_major": 2,
       "version_minor": 0
      },
      "text/plain": [
       "IntText(value=-1, description='left bound')"
      ]
     },
     "metadata": {},
     "output_type": "display_data"
    },
    {
     "data": {
      "application/vnd.jupyter.widget-view+json": {
       "model_id": "4920d3076757461c86a5a5bf6e77df08",
       "version_major": 2,
       "version_minor": 0
      },
      "text/plain": [
       "IntText(value=1, description='right bound')"
      ]
     },
     "metadata": {},
     "output_type": "display_data"
    },
    {
     "data": {
      "application/vnd.jupyter.widget-view+json": {
       "model_id": "90adbcbb192c4a57a22ee0d8a489c09e",
       "version_major": 2,
       "version_minor": 0
      },
      "text/plain": [
       "IntSlider(value=7, continuous_update=False, description='Iterations', max=20)"
      ]
     },
     "metadata": {},
     "output_type": "display_data"
    }
   ],
   "source": [
    "a = widgets.IntText(\n",
    "    value = -1,\n",
    "    description=\"left bound\")\n",
    "display(a)\n",
    "\n",
    "\n",
    "b = widgets.IntText(\n",
    "    value = 1,\n",
    "    description=\"right bound\")\n",
    "display(b)\n",
    "\n",
    "\n",
    "k = widgets.IntSlider(\n",
    "    value=7,\n",
    "    min=0,\n",
    "    max=20,\n",
    "    step=1,\n",
    "    description='Iterations',\n",
    "    disabled=False,\n",
    "    continuous_update=False,\n",
    "    orientation='horizontal',\n",
    "    readout=True,\n",
    "    readout_format='d'\n",
    ")\n",
    "display(k)"
   ]
  },
  {
   "cell_type": "markdown",
   "metadata": {},
   "source": [
    "# Visualization (golden ratio method)"
   ]
  },
  {
   "cell_type": "code",
   "execution_count": 21,
   "metadata": {},
   "outputs": [],
   "source": [
    "x2 = np.linspace(-10, 10, num=1000)\n",
    "y2 = list(map(f,x2))\n",
    "minf, arg = gr(a.value, b.value, k.value)\n",
    "yg = list(map(f,arg))"
   ]
  },
  {
   "cell_type": "code",
   "execution_count": 22,
   "metadata": {},
   "outputs": [
    {
     "data": {
      "text/plain": [
       "<matplotlib.collections.PathCollection at 0x218ba8f1640>"
      ]
     },
     "execution_count": 22,
     "metadata": {},
     "output_type": "execute_result"
    },
    {
     "data": {
      "image/png": "[encoded data removed]",
      "text/plain": [
       "<Figure size 432x288 with 1 Axes>"
      ]
     },
     "metadata": {
      "needs_background": "light"
     },
     "output_type": "display_data"
    }
   ],
   "source": [
    "fig = plt.figure()\n",
    "ax = fig.add_subplot(1, 1, 1)\n",
    "ax.plot(x2,y2)\n",
    "ax.scatter(arg, yg, marker='o', color='red')"
   ]
  },
  {
   "cell_type": "markdown",
   "metadata": {},
   "source": [
    "# Fibonacci method"
   ]
  },
  {
   "cell_type": "code",
   "execution_count": 23,
   "metadata": {},
   "outputs": [],
   "source": [
    "def fib(n):\n",
    "    if n in (1, 2):\n",
    "        return 1\n",
    "    return fib(n - 1) + fib(n - 2)\n",
    "    \n",
    "\n",
    "def fib_m(a, b, k):\n",
    "    array = [] #empty array for roots\n",
    "    minf = 0\n",
    "\n",
    "    for i in range(k,1,-1):\n",
    "        x1 = a + (b-a)*(fib(k-2)/fib(k))\n",
    "        x2 = a + (b-a)*(fib(k-1)/fib(k))\n",
    "        y1 = f(x1)\n",
    "        y2 = f(x2)\n",
    "        if k == 1:\n",
    "            minf = (x1+x2)/2\n",
    "            break\n",
    "        if f(x1) > f(x2): #main condition\n",
    "            a = x1\n",
    "            x1 = x2\n",
    "            x2 = b - (x1 - a)\n",
    "            y1 = y2\n",
    "            y2 = f(x2)\n",
    "            array.append(a)  \n",
    "        else:\n",
    "            b = x2\n",
    "            x2 = x1\n",
    "            x1 = a + (b - x2)\n",
    "            y2 = y1\n",
    "            y1 = f(x1)\n",
    "            array.append(b)\n",
    "        \n",
    "    return minf, array #the minimum and the list of the roots "
   ]
  },
  {
   "cell_type": "code",
   "execution_count": 24,
   "metadata": {},
   "outputs": [
    {
     "data": {
      "application/vnd.jupyter.widget-view+json": {
       "model_id": "e630828221f64a839df6476e1eb861dc",
       "version_major": 2,
       "version_minor": 0
      },
      "text/plain": [
       "IntText(value=-1, description='left bound')"
      ]
     },
     "metadata": {},
     "output_type": "display_data"
    },
    {
     "data": {
      "application/vnd.jupyter.widget-view+json": {
       "model_id": "139ccb780ed14b77970334b2b07ddfa3",
       "version_major": 2,
       "version_minor": 0
      },
      "text/plain": [
       "IntText(value=1, description='right bound')"
      ]
     },
     "metadata": {},
     "output_type": "display_data"
    },
    {
     "data": {
      "application/vnd.jupyter.widget-view+json": {
       "model_id": "055f8c2b82fe421991fbf44368c0be20",
       "version_major": 2,
       "version_minor": 0
      },
      "text/plain": [
       "IntSlider(value=7, continuous_update=False, description='Iterations', max=20)"
      ]
     },
     "metadata": {},
     "output_type": "display_data"
    }
   ],
   "source": [
    "a = widgets.IntText(\n",
    "    value = -1,\n",
    "    description=\"left bound\")\n",
    "display(a)\n",
    "\n",
    "b = widgets.IntText(\n",
    "    value = 1,\n",
    "    description=\"right bound\")\n",
    "display(b)\n",
    "\n",
    "k = widgets.IntSlider(\n",
    "    value=7,\n",
    "    min=0,\n",
    "    max=20,\n",
    "    step=1,\n",
    "    description='Iterations',\n",
    "    disabled=False,\n",
    "    continuous_update=False,\n",
    "    orientation='horizontal',\n",
    "    readout=True,\n",
    "    readout_format='d'\n",
    ")\n",
    "display(k)"
   ]
  },
  {
   "cell_type": "markdown",
   "metadata": {},
   "source": [
    "# Visualization (fibonacci method)"
   ]
  },
  {
   "cell_type": "code",
   "execution_count": 25,
   "metadata": {},
   "outputs": [],
   "source": [
    "x2 = np.linspace(-10, 10, num=1000)\n",
    "y2 = list(map(f,x2))\n",
    "minf, arg = fib_m(a.value, b.value, k.value)\n",
    "yg = list(map(f,arg))"
   ]
  },
  {
   "cell_type": "code",
   "execution_count": 26,
   "metadata": {},
   "outputs": [
    {
     "data": {
      "text/plain": [
       "<matplotlib.collections.PathCollection at 0x218baa5f640>"
      ]
     },
     "execution_count": 26,
     "metadata": {},
     "output_type": "execute_result"
    },
    {
     "data": {
      "image/png": "[encoded data removed]",
      "text/plain": [
       "<Figure size 432x288 with 1 Axes>"
      ]
     },
     "metadata": {
      "needs_background": "light"
     },
     "output_type": "display_data"
    }
   ],
   "source": [
    "fig = plt.figure()\n",
    "ax = fig.add_subplot(1, 1, 1)\n",
    "ax.plot(x2,y2)\n",
    "ax.scatter(arg, yg, marker='o', color='red')"
   ]
  },
  {
   "cell_type": "code",
   "execution_count": null,
   "metadata": {},
   "outputs": [],
   "source": []
  }
 ],
 "metadata": {
  "kernelspec": {
   "display_name": "Python 3.9.6 64-bit",
   "language": "python",
   "name": "python3"
  },
  "language_info": {
   "codemirror_mode": {
    "name": "ipython",
    "version": 3
   },
   "file_extension": ".py",
   "mimetype": "text/x-python",
   "name": "python",
   "nbconvert_exporter": "python",
   "pygments_lexer": "ipython3",
   "version": "3.9.6"
  },
  "vscode": {
   "interpreter": {
    "hash": "75117e000957bf20a24e4770f4eab50f4bc639950cf2a2e4fd2f90f7468dd844"
   }
  }
 },
 "nbformat": 4,
 "nbformat_minor": 2
}
